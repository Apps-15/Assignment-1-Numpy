{
 "cells": [
  {
   "cell_type": "code",
   "execution_count": 13,
   "metadata": {},
   "outputs": [
    {
     "name": "stdout",
     "output_type": "stream",
     "text": [
      "[0, 0, 0, 0, 1, 0, 0, 0, 0, 0]\n"
     ]
    }
   ],
   "source": [
    "# Initialize a list with 10 zeros\n",
    "null_vector = [0] * 10\n",
    "\n",
    "# Set the fifth value (at index 4) to 1\n",
    "null_vector[4] = 1\n",
    "\n",
    "# Print the resulting null vector\n",
    "print(null_vector)\n"
   ]
  },
  {
   "cell_type": "code",
   "execution_count": 14,
   "metadata": {},
   "outputs": [
    {
     "name": "stdout",
     "output_type": "stream",
     "text": [
      "[10, 11, 12, 13, 14, 15, 16, 17, 18, 19, 20, 21, 22, 23, 24, 25, 26, 27, 28, 29, 30, 31, 32, 33, 34, 35, 36, 37, 38, 39, 40, 41, 42, 43, 44, 45, 46, 47, 48, 49]\n"
     ]
    }
   ],
   "source": [
    "# Create the vector using a list comprehension\n",
    "vector = [value for value in range(10, 50)]\n",
    "\n",
    "# Print the resulting vector\n",
    "print(vector)\n"
   ]
  },
  {
   "cell_type": "code",
   "execution_count": 15,
   "metadata": {},
   "outputs": [
    {
     "name": "stdout",
     "output_type": "stream",
     "text": [
      "[0, 1, 2]\n",
      "[3, 4, 5]\n",
      "[6, 7, 8]\n"
     ]
    }
   ],
   "source": [
    "# Create the matrix using nested list comprehensions\n",
    "matrix = [[value for value in range(0, 9)][i:i+3] for i in range(0, 9, 3)]\n",
    "\n",
    "# Print the resulting matrix\n",
    "for row in matrix:\n",
    "    print(row)\n"
   ]
  },
  {
   "cell_type": "code",
   "execution_count": 16,
   "metadata": {},
   "outputs": [
    {
     "name": "stdout",
     "output_type": "stream",
     "text": [
      "Indices of non-zero elements: [0, 1, 4]\n"
     ]
    }
   ],
   "source": [
    "# Given list\n",
    "original_list = [1, 2, 0, 0, 4, 0]\n",
    "\n",
    "# Find indices of non-zero elements\n",
    "non_zero_indices = [index for index, value in enumerate(original_list) if value != 0]\n",
    "\n",
    "# Print the indices of non-zero elements\n",
    "print(\"Indices of non-zero elements:\", non_zero_indices)\n"
   ]
  },
  {
   "cell_type": "code",
   "execution_count": 17,
   "metadata": {},
   "outputs": [
    {
     "name": "stdout",
     "output_type": "stream",
     "text": [
      "Array:\n",
      "[[0.3574404  0.85865166 0.80591827 0.15172238 0.61471588 0.53289058\n",
      "  0.47797879 0.48142572 0.76178474 0.86843104]\n",
      " [0.98952987 0.27153439 0.81288577 0.51359091 0.66384271 0.51816455\n",
      "  0.58994927 0.81842426 0.62633052 0.559982  ]\n",
      " [0.97596524 0.52257157 0.88540606 0.64073606 0.09843057 0.71466785\n",
      "  0.74445647 0.45683224 0.17429844 0.53478832]\n",
      " [0.43726858 0.70161573 0.91542626 0.87854727 0.0569488  0.10128984\n",
      "  0.25001648 0.56095482 0.95356421 0.77782584]\n",
      " [0.91650358 0.73077719 0.27944738 0.01158735 0.81268978 0.80791624\n",
      "  0.85776016 0.2364426  0.35608925 0.29388534]\n",
      " [0.81482383 0.02501697 0.10913709 0.2941951  0.22836442 0.91013333\n",
      "  0.62454387 0.16867477 0.23838098 0.75967709]\n",
      " [0.82178682 0.47937112 0.57688299 0.00825245 0.1415699  0.35959272\n",
      "  0.15674221 0.12373763 0.74096624 0.75228541]\n",
      " [0.2882716  0.89092594 0.53204474 0.81094733 0.39228993 0.31587879\n",
      "  0.66000611 0.25060678 0.18930969 0.57250453]\n",
      " [0.18107713 0.73614504 0.44473174 0.95679814 0.13161032 0.7453447\n",
      "  0.92346538 0.67525846 0.15527447 0.9839057 ]\n",
      " [0.62332919 0.35509123 0.42150962 0.13206038 0.75350425 0.57061002\n",
      "  0.24841804 0.53291244 0.12430495 0.75037335]]\n",
      "Minimum value: 0.008252449871347323\n",
      "Maximum value: 0.9895298670153448\n"
     ]
    }
   ],
   "source": [
    "import numpy as np\n",
    "\n",
    "# Create a 10x10 array with random values between 0 and 1\n",
    "array = np.random.rand(10, 10)\n",
    "\n",
    "# Find the minimum and maximum values in the array\n",
    "min_value = np.min(array)\n",
    "max_value = np.max(array)\n",
    "\n",
    "# Print the array, minimum, and maximum values\n",
    "print(\"Array:\")\n",
    "print(array)\n",
    "print(\"Minimum value:\", min_value)\n",
    "print(\"Maximum value:\", max_value)\n"
   ]
  },
  {
   "cell_type": "code",
   "execution_count": 18,
   "metadata": {},
   "outputs": [
    {
     "name": "stdout",
     "output_type": "stream",
     "text": [
      "Random Vector:\n",
      "[0.84114508 0.85346336 0.54710835 0.54856795 0.55426508 0.20641472\n",
      " 0.79257905 0.23425932 0.93377609 0.13811973 0.9448336  0.05164124\n",
      " 0.48652238 0.27903383 0.57935032 0.44693662 0.154118   0.06006196\n",
      " 0.38203381 0.55171944 0.70059317 0.66969343 0.39621627 0.73975524\n",
      " 0.47877885 0.39282551 0.82204706 0.25382548 0.67863168 0.31057951]\n",
      "Mean value: 0.5009632044487674\n"
     ]
    }
   ],
   "source": [
    "import numpy as np\n",
    "\n",
    "# Create a random vector of size 30\n",
    "random_vector = np.random.rand(30)\n",
    "\n",
    "# Calculate the mean value of the random vector\n",
    "mean_value = np.mean(random_vector)\n",
    "\n",
    "# Print the random vector and its mean value\n",
    "print(\"Random Vector:\")\n",
    "print(random_vector)\n",
    "print(\"Mean value:\", mean_value)\n"
   ]
  }
 ],
 "metadata": {
  "kernelspec": {
   "display_name": "Python 3",
   "language": "python",
   "name": "python3"
  },
  "language_info": {
   "codemirror_mode": {
    "name": "ipython",
    "version": 3
   },
   "file_extension": ".py",
   "mimetype": "text/x-python",
   "name": "python",
   "nbconvert_exporter": "python",
   "pygments_lexer": "ipython3",
   "version": "3.11.4"
  },
  "orig_nbformat": 4
 },
 "nbformat": 4,
 "nbformat_minor": 2
}
